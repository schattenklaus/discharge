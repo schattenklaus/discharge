{
 "cells": [
  {
   "cell_type": "code",
   "execution_count": 1,
   "id": "d550625c",
   "metadata": {},
   "outputs": [],
   "source": [
    "from pathlib import Path\n",
    "import matplotlib.pyplot as plt\n",
    "import librosa\n",
    "import torch\n",
    "import os\n",
    "import numpy as np\n",
    "from torch.utils.data import DataLoader\n",
    "import torch.nn as nn\n",
    "import torch.nn.functional as F\n",
    "import torch.optim as optim\n",
    "from tqdm import tqdm\n",
    "import h5py\n",
    "from pathlib import Path\n",
    "from torch.utils import data\n",
    "import logging\n",
    "from datetime import datetime\n",
    "from collections import Counter\n",
    "\n",
    "from sklearn.metrics import confusion_matrix,  ConfusionMatrixDisplay\n",
    "\n"
   ]
  },
  {
   "cell_type": "code",
   "execution_count": 2,
   "id": "8694bcbd",
   "metadata": {},
   "outputs": [],
   "source": [
    "# Wrapping the dataset with load function\n",
    "class CustomDataset(data.Dataset):\n",
    "    def __init__(self, file_path, transform=None):\n",
    "        super().__init__()\n",
    "        self.train_data_cache = []\n",
    "        self.test_data_cache = []\n",
    "        self.manual_data_cache = []\n",
    "        self.transform = transform\n",
    "        self.label_count = [0, 0, 0]\n",
    "        # Search for all h5 files\n",
    "        p = Path(file_path)\n",
    "        files = p.glob('*.h5')\n",
    "        logging.debug(files)\n",
    "        for h5dataset_fp in files:\n",
    "            logging.debug(h5dataset_fp)\n",
    "            with h5py.File(h5dataset_fp.resolve()) as h5_file:\n",
    "                # Walk through all groups, extracting datasets\n",
    "                for gname, group in h5_file.items():\n",
    "                    k = 0\n",
    "                    j = 0\n",
    "                    l = 0\n",
    "                    if gname == 'referenz':\n",
    "                        label = 0\n",
    "                    elif gname == 'spitze':\n",
    "                        label = 1\n",
    "                    elif gname == 'grenzflaeche':\n",
    "                        label = 2\n",
    "\n",
    "                    logging.debug(group.items())\n",
    "                    for dname, ds in tqdm(group.items()):\n",
    "                        if k < 3000:\n",
    "                            for i in np.split(ds, 4):\n",
    "                                self.train_data_cache.append([label, torch.tensor(i).unsqueeze(0).type(torch.float32)])\n",
    "                                k += 1\n",
    "                        elif j < 400:\n",
    "                            for i in np.split(ds, 4):\n",
    "                                self.test_data_cache.append([label, torch.tensor(i).unsqueeze(0).type(torch.float32)])\n",
    "                                j += 1\n",
    "                        elif l < 100:\n",
    "                            for i in np.split(ds, 4):\n",
    "                                self.manual_data_cache.append([label, torch.tensor(i).unsqueeze(0).type(torch.float32)])\n",
    "                                l += 1\n",
    "                                \n",
    "    def __getitem__(self, index):\n",
    "        return self.data_cache[index]\n",
    "\n",
    "    def get_test_data(self):\n",
    "        return self.test_data_cache\n",
    "\n",
    "    def get_train_data(self):\n",
    "        return self.train_data_cache\n",
    "\n",
    "    def __len__(self):\n",
    "        return len(self.data_cache)"
   ]
  },
  {
   "cell_type": "code",
   "execution_count": 3,
   "id": "9139b5f7-1256-4d61-a890-b629d5e3fc5c",
   "metadata": {},
   "outputs": [],
   "source": [
    "# Defining the network\n",
    "class Network(nn.Module):\n",
    "    def __init__(self):\n",
    "        super(Network, self).__init__()\n",
    "        self.conv1 = nn.Conv1d(1, 2, kernel_size=3, padding=1)\n",
    "        self.conv2 = nn.Conv1d(2, 4, kernel_size=3, padding=1)\n",
    "        self.conv3 = nn.Conv1d(4, 8, kernel_size=3, padding=1)\n",
    "        self.conv4 = nn.Conv1d(8, 16, kernel_size=3, padding=1)  # endsize 1536 maxpool 3\n",
    "        # self.conv5 = nn.Conv1d(128, 256, kernel_size=3, padding=1) #endsize 1024 maxpool 3\n",
    "        # self.conv6 = nn.Conv1d(256, 512, kernel_size=3, padding=1) # endsize 512 maxpool 3\n",
    "\n",
    "        self.fc1 = nn.Linear(384//8, 3)\n",
    "\n",
    "    def forward(self, x):\n",
    "        x = F.max_pool1d(F.relu(self.conv1(x)), 3)\n",
    "        x = F.max_pool1d(F.relu(self.conv2(x)), 3)\n",
    "        x = F.max_pool1d(F.relu(self.conv3(x)), 3)\n",
    "        x = F.max_pool1d(F.relu(self.conv4(x)), 3)\n",
    "        # x = F.max_pool1d(F.relu(self.conv5(x)),3)\n",
    "        # x = F.max_pool1d(F.relu(self.conv6(x)),3)\n",
    "        #logging.debug(x.shape)\n",
    "        x = torch.flatten(x, 1)\n",
    "        #logging.debug(x.shape)\n",
    "        x = F.softmax(self.fc1(x), dim=1)\n",
    "\n",
    "        return x"
   ]
  },
  {
   "cell_type": "code",
   "execution_count": null,
   "id": "4fa4b418-b873-4d4e-ad87-d401cfd90056",
   "metadata": {},
   "outputs": [],
   "source": [
    "\n"
   ]
  },
  {
   "cell_type": "code",
   "execution_count": 4,
   "id": "95f6ffbd",
   "metadata": {},
   "outputs": [],
   "source": [
    "\n",
    "# the train loop\n",
    "def train(dataloader, optimizer, criterion, model):\n",
    "    model.train()\n",
    "    running_loss = 0.0\n",
    "    j = 0\n",
    "    loss_values = []\n",
    "    #data=next(iter(train_dataloader))\n",
    "    #inputs = data[1]\n",
    "    #labels = data[0]\n",
    "    #print( labels)\n",
    "   \n",
    "    for i, data in enumerate(train_dataloader, 0):\n",
    "        # get the inputs; data is a list of [labels, inputs]\n",
    "\n",
    "        inputs = data[1]\n",
    "        labels = data[0]\n",
    "        inputs = inputs.to(device)\n",
    "        labels = labels.to(device)\n",
    "        # zero the parameter gradients\n",
    "        optimizer.zero_grad()\n",
    "\n",
    "        # forward + backward + optimize\n",
    "        outputs = model(inputs)\n",
    "        loss = criterion(outputs, labels)\n",
    "        loss_values.append(loss.item())\n",
    "        loss.backward()\n",
    "        optimizer.step()\n",
    "    \n",
    "        # log statistics\n",
    "        running_loss += loss.item()\n",
    "        #print(torch.argmax(outputs,axis=1))\n",
    "        #print((torch.argmax(outputs,axis=1)==labels).float().mean())\n",
    "        if i % 500 == 499:\n",
    "            print(f\"[{epoch}]Loss: {running_loss / 500} \")\n",
    "        \n",
    "    print(f\"[{epoch}] Train Loss: {running_loss / (i+1)} \") \n",
    "    plt.plot(loss_values)"
   ]
  },
  {
   "cell_type": "code",
   "execution_count": 5,
   "id": "8e3fa49d",
   "metadata": {},
   "outputs": [],
   "source": [
    "# testing the accuracy on single 1024 snippets\n",
    "def split_test(dataloader,criterion, model):\n",
    "    size = len(dataloader.dataset)\n",
    "    num_batches = len(dataloader)\n",
    "    model.eval()\n",
    "    ACC = []\n",
    "    true = []\n",
    "    pred = []\n",
    "    test_loss, correct = 0, 0\n",
    "    with torch.no_grad():\n",
    "        for labels, inputs in dataloader:\n",
    "            labels, inputs = labels.to(device), inputs.to(device)\n",
    "            outputs = model(inputs)\n",
    "            loss = criterion(outputs, labels)\n",
    "            test_loss += loss.item()\n",
    "            ACC.append((torch.argmax(outputs,axis=1)==labels).float().mean().item())\n",
    "            pred.extend(list((torch.argmax(outputs,axis=1).cpu().numpy())))\n",
    "            true.extend(list(labels.cpu().numpy()))\n",
    "            correct += (outputs.argmax(1) == labels).type(torch.float).sum().item()\n",
    "    test_loss /= num_batches\n",
    "    correct /= size\n",
    "    print(f\" Random Teilstück Error: Accuracy: {(100 * correct):>0.1f}%, Avg loss: {test_loss:>8f}\")\n",
    "    #print('Jetzt kommt Test',np.mean(ACC))\n",
    "    \n",
    "    return confusion_matrix(true, pred), confusion_matrix(true, pred, normalize='true')\n",
    "\n"
   ]
  },
  {
   "cell_type": "code",
   "execution_count": 6,
   "id": "99bcb720",
   "metadata": {},
   "outputs": [
    {
     "name": "stdout",
     "output_type": "stream",
     "text": [
      "Using cuda device\n"
     ]
    }
   ],
   "source": [
    "# looking for cuda device and selecting it if possible\n",
    "device = 'cuda' if torch.cuda.is_available() else 'cpu'\n",
    "print('Using {} device'.format(device))"
   ]
  },
  {
   "cell_type": "code",
   "execution_count": 7,
   "id": "3772bbb0",
   "metadata": {},
   "outputs": [
    {
     "name": "stderr",
     "output_type": "stream",
     "text": [
      "<ipython-input-2-6cd89fd886d4>:16: H5pyDeprecationWarning: The default file mode will change to 'r' (read-only) in h5py 3.0. To suppress this warning, pass the mode you need to h5py.File(), or set the global default h5.get_config().default_file_mode, or set the environment variable H5PY_DEFAULT_READONLY=1. Available modes are: 'r', 'r+', 'w', 'w-'/'x', 'a'. See the docs for details.\n",
      "  with h5py.File(h5dataset_fp.resolve()) as h5_file:\n",
      "100%|█████████████████████████████████████████████████████████████████████████████████████████████████████████████████████████████████████████████████████████████████████████████████████████████████████████████| 4000/4000 [00:00<00:00, 9466.81it/s]\n",
      "100%|████████████████████████████████████████████████████████████████████████████████████████████████████████████████████████████████████████████████████████████████████████████████████████████████████████| 148022/148022 [00:06<00:00, 21566.06it/s]\n",
      "100%|████████████████████████████████████████████████████████████████████████████████████████████████████████████████████████████████████████████████████████████████████████████████████████████████████████████| 3401/3401 [00:00<00:00, 10119.73it/s]\n"
     ]
    }
   ],
   "source": [
    "# loading the data\n",
    "customData = CustomDataset('data')\n",
    "\n"
   ]
  },
  {
   "cell_type": "code",
   "execution_count": 8,
   "id": "4127cc14",
   "metadata": {},
   "outputs": [],
   "source": [
    "# defining the model and moving it to the correct device\n"
   ]
  },
  {
   "cell_type": "code",
   "execution_count": null,
   "id": "29ed711f",
   "metadata": {},
   "outputs": [],
   "source": []
  },
  {
   "cell_type": "code",
   "execution_count": 9,
   "id": "2a8950fc-b7c0-492f-9c9d-30970b882ba1",
   "metadata": {},
   "outputs": [],
   "source": [
    "# defining train and test sets\n",
    "train_data = customData.get_train_data()\n",
    "test_data = customData.get_test_data()\n",
    "train_dataloader = DataLoader(train_data, batch_size=256, shuffle=True, pin_memory=False, num_workers=0)\n",
    "test_dataloader = DataLoader(test_data, batch_size=64, shuffle=True, pin_memory=False, num_workers=0)\n",
    "manual_dataloader = DataLoader(customData.manual_data_cache, batch_size=4, shuffle=False, pin_memory=False, num_workers=0)"
   ]
  },
  {
   "cell_type": "code",
   "execution_count": 10,
   "id": "fc8cb51b-f63d-4fb0-a50d-8329714f4dbb",
   "metadata": {},
   "outputs": [
    {
     "name": "stdout",
     "output_type": "stream",
     "text": [
      "dict_keys([2, 0, 1])\n",
      "dict_values([3000, 3000, 3000])\n"
     ]
    }
   ],
   "source": [
    "\n",
    "cache=[]\n",
    "for i, val in enumerate( train_data):\n",
    "        train_data[i][0]\n",
    "        cache.append(train_data[i][0])\n",
    "    \n",
    "print(Counter(cache).keys())\n",
    "print(Counter(cache).values())"
   ]
  },
  {
   "cell_type": "code",
   "execution_count": 11,
   "id": "61d0c013-b7bf-4221-8424-dc17e07f033a",
   "metadata": {},
   "outputs": [
    {
     "name": "stdout",
     "output_type": "stream",
     "text": [
      "dict_keys([2, 0, 1])\n",
      "dict_values([400, 400, 400])\n"
     ]
    }
   ],
   "source": [
    "cache=[]\n",
    "for i, val in enumerate( test_data):\n",
    "        test_data[i][0]\n",
    "        cache.append(test_data[i][0])\n",
    "    \n",
    "print(Counter(cache).keys())\n",
    "print(Counter(cache).values())"
   ]
  },
  {
   "cell_type": "code",
   "execution_count": 12,
   "id": "2ab9d735-8b75-47d6-ab4b-663cb2021d57",
   "metadata": {},
   "outputs": [
    {
     "name": "stdout",
     "output_type": "stream",
     "text": [
      "Network(\n",
      "  (conv1): Conv1d(1, 2, kernel_size=(3,), stride=(1,), padding=(1,))\n",
      "  (conv2): Conv1d(2, 4, kernel_size=(3,), stride=(1,), padding=(1,))\n",
      "  (conv3): Conv1d(4, 8, kernel_size=(3,), stride=(1,), padding=(1,))\n",
      "  (conv4): Conv1d(8, 16, kernel_size=(3,), stride=(1,), padding=(1,))\n",
      "  (fc1): Linear(in_features=48, out_features=3, bias=True)\n",
      ")\n",
      "687\n",
      "[0] Train Loss: 1.068744765387641 \n",
      " Random Teilstück Error: Accuracy: 35.2%, Avg loss: 1.019044\n",
      "[1] Train Loss: 1.001400379670991 \n",
      " Random Teilstück Error: Accuracy: 52.8%, Avg loss: 0.979946\n",
      "[2] Train Loss: 0.9540769755840302 \n",
      " Random Teilstück Error: Accuracy: 68.1%, Avg loss: 0.922195\n",
      "[3] Train Loss: 0.8650969349675708 \n",
      " Random Teilstück Error: Accuracy: 81.5%, Avg loss: 0.808328\n",
      "[4] Train Loss: 0.7643632888793945 \n",
      " Random Teilstück Error: Accuracy: 82.8%, Avg loss: 0.739987\n",
      "[5] Train Loss: 0.7142507218652301 \n",
      " Random Teilstück Error: Accuracy: 85.7%, Avg loss: 0.702729\n",
      "[6] Train Loss: 0.691096532675955 \n",
      " Random Teilstück Error: Accuracy: 87.2%, Avg loss: 0.680293\n",
      "[7] Train Loss: 0.6790615850024753 \n",
      " Random Teilstück Error: Accuracy: 88.7%, Avg loss: 0.670211\n",
      "[8] Train Loss: 0.676869210269716 \n",
      " Random Teilstück Error: Accuracy: 89.2%, Avg loss: 0.666566\n",
      "[9] Train Loss: 0.6739857014682558 \n",
      " Random Teilstück Error: Accuracy: 88.2%, Avg loss: 0.668964\n",
      "[10] Train Loss: 0.6719674948188994 \n",
      " Random Teilstück Error: Accuracy: 88.8%, Avg loss: 0.666037\n",
      "[11] Train Loss: 0.669819282160865 \n",
      " Random Teilstück Error: Accuracy: 89.7%, Avg loss: 0.663456\n",
      "[12] Train Loss: 0.6676675313048892 \n",
      " Random Teilstück Error: Accuracy: 88.8%, Avg loss: 0.664356\n",
      "[13] Train Loss: 0.6661195357640585 \n",
      " Random Teilstück Error: Accuracy: 89.2%, Avg loss: 0.660738\n",
      "[14] Train Loss: 0.6662728935480118 \n",
      " Random Teilstück Error: Accuracy: 89.3%, Avg loss: 0.662067\n",
      "[15] Train Loss: 0.6655341850386726 \n",
      " Random Teilstück Error: Accuracy: 88.8%, Avg loss: 0.660776\n",
      "[16] Train Loss: 0.6638610545131896 \n",
      " Random Teilstück Error: Accuracy: 89.2%, Avg loss: 0.660240\n",
      "[17] Train Loss: 0.6626756870084338 \n",
      " Random Teilstück Error: Accuracy: 88.7%, Avg loss: 0.663793\n",
      "[18] Train Loss: 0.6633161422279146 \n",
      " Random Teilstück Error: Accuracy: 89.1%, Avg loss: 0.660294\n",
      "[19] Train Loss: 0.6617109643088447 \n",
      " Random Teilstück Error: Accuracy: 87.7%, Avg loss: 0.666289\n",
      "[20] Train Loss: 0.6611280888319016 \n",
      " Random Teilstück Error: Accuracy: 89.2%, Avg loss: 0.661568\n",
      "[21] Train Loss: 0.661012684305509 \n",
      " Random Teilstück Error: Accuracy: 89.7%, Avg loss: 0.656971\n",
      "[22] Train Loss: 0.6588292469580969 \n",
      " Random Teilstück Error: Accuracy: 89.6%, Avg loss: 0.655557\n",
      "[23] Train Loss: 0.6580482804112964 \n",
      " Random Teilstück Error: Accuracy: 89.0%, Avg loss: 0.657635\n",
      "[24] Train Loss: 0.6569216400384903 \n",
      " Random Teilstück Error: Accuracy: 89.2%, Avg loss: 0.657361\n",
      "[25] Train Loss: 0.656044590804312 \n",
      " Random Teilstück Error: Accuracy: 89.2%, Avg loss: 0.657187\n",
      "[26] Train Loss: 0.6544811377922694 \n",
      " Random Teilstück Error: Accuracy: 89.5%, Avg loss: 0.656864\n",
      "[27] Train Loss: 0.6605935328536563 \n",
      " Random Teilstück Error: Accuracy: 89.2%, Avg loss: 0.658622\n",
      "[28] Train Loss: 0.6555591838227378 \n",
      " Random Teilstück Error: Accuracy: 89.5%, Avg loss: 0.656062\n",
      "[29] Train Loss: 0.6553004069460763 \n",
      " Random Teilstück Error: Accuracy: 89.3%, Avg loss: 0.654475\n",
      "[30] Train Loss: 0.6533504194683499 \n",
      " Random Teilstück Error: Accuracy: 89.4%, Avg loss: 0.654489\n",
      "[31] Train Loss: 0.6540116286940045 \n",
      " Random Teilstück Error: Accuracy: 89.6%, Avg loss: 0.654061\n",
      "[32] Train Loss: 0.6527365661329694 \n",
      " Random Teilstück Error: Accuracy: 89.3%, Avg loss: 0.654186\n",
      "[33] Train Loss: 0.6529086265299056 \n",
      " Random Teilstück Error: Accuracy: 89.4%, Avg loss: 0.654760\n",
      "[34] Train Loss: 0.6529055254326926 \n",
      " Random Teilstück Error: Accuracy: 89.1%, Avg loss: 0.655148\n",
      "[35] Train Loss: 0.6515878025028441 \n",
      " Random Teilstück Error: Accuracy: 89.5%, Avg loss: 0.653882\n",
      "[36] Train Loss: 0.6519047104650073 \n",
      " Random Teilstück Error: Accuracy: 89.3%, Avg loss: 0.656387\n",
      "[37] Train Loss: 0.651798837714725 \n",
      " Random Teilstück Error: Accuracy: 88.9%, Avg loss: 0.655018\n",
      "[38] Train Loss: 0.6514537069532607 \n",
      " Random Teilstück Error: Accuracy: 89.8%, Avg loss: 0.652985\n",
      "[39] Train Loss: 0.652123373415735 \n",
      " Random Teilstück Error: Accuracy: 89.2%, Avg loss: 0.653832\n",
      "[40] Train Loss: 0.6506127847565545 \n",
      " Random Teilstück Error: Accuracy: 88.7%, Avg loss: 0.660392\n",
      "[41] Train Loss: 0.6509998142719269 \n",
      " Random Teilstück Error: Accuracy: 89.1%, Avg loss: 0.654822\n",
      "[42] Train Loss: 0.6526824136575063 \n",
      " Random Teilstück Error: Accuracy: 89.8%, Avg loss: 0.652511\n",
      "[43] Train Loss: 0.6509599271747801 \n",
      " Random Teilstück Error: Accuracy: 89.4%, Avg loss: 0.653787\n",
      "[44] Train Loss: 0.65112747086419 \n",
      " Random Teilstück Error: Accuracy: 89.2%, Avg loss: 0.654756\n",
      "[45] Train Loss: 0.650075732005967 \n",
      " Random Teilstück Error: Accuracy: 89.1%, Avg loss: 0.657591\n",
      "[46] Train Loss: 0.6521615899271436 \n",
      " Random Teilstück Error: Accuracy: 89.8%, Avg loss: 0.652975\n",
      "[47] Train Loss: 0.6507665233479606 \n",
      " Random Teilstück Error: Accuracy: 89.5%, Avg loss: 0.652138\n",
      "[48] Train Loss: 0.6493187761969037 \n",
      " Random Teilstück Error: Accuracy: 89.5%, Avg loss: 0.654475\n",
      "[49] Train Loss: 0.6479737361272176 \n",
      " Random Teilstück Error: Accuracy: 89.2%, Avg loss: 0.653664\n",
      "Finished Training\n"
     ]
    },
    {
     "data": {
      "image/png": "[encoded data removed]",
      "text/plain": [
       "<Figure size 432x288 with 1 Axes>"
      ]
     },
     "metadata": {
      "needs_background": "light"
     },
     "output_type": "display_data"
    },
    {
     "data": {
      "image/png": "[encoded data removed]",
      "text/plain": [
       "<Figure size 432x288 with 2 Axes>"
      ]
     },
     "metadata": {
      "needs_background": "light"
     },
     "output_type": "display_data"
    },
    {
     "data": {
      "image/png": "[encoded data removed]",
      "text/plain": [
       "<Figure size 432x288 with 2 Axes>"
      ]
     },
     "metadata": {
      "needs_background": "light"
     },
     "output_type": "display_data"
    }
   ],
   "source": [
    "\n",
    "\n",
    "model = Network().to(device)\n",
    "print(model)\n",
    "total_params = sum(p.numel() for p in model.parameters() if p.requires_grad)\n",
    "print(total_params)\n",
    "\n",
    "# defining loss and optimizer\n",
    "criterion = nn.CrossEntropyLoss()\n",
    "optimizer = optim.Adam(model.parameters(), lr=0.001)\n",
    "\n",
    "# training loop\n",
    "for epoch in range(50):  # loop over the dataset multiple times\n",
    "    loss_values=train(train_dataloader, optimizer, criterion, model)\n",
    "    CM=split_test(test_dataloader, criterion, model)\n",
    "    #test_complete(test_dataloader, optimizer, criterion, model)\n",
    "print('Finished Training')\n",
    "#print(CM[0])\n",
    "\n",
    "disp = ConfusionMatrixDisplay(confusion_matrix=CM[0],display_labels=[0, 1, 2])\n",
    "disp.plot()\n",
    "plt.show()\n",
    "disp = ConfusionMatrixDisplay(confusion_matrix=CM[1],display_labels=[0, 1, 2])\n",
    "disp.plot()\n",
    "plt.show()\n",
    "\n",
    "\n",
    "\n"
   ]
  },
  {
   "cell_type": "code",
   "execution_count": null,
   "id": "7d4c1535-bc89-4f54-bc58-e10750d6c01c",
   "metadata": {},
   "outputs": [],
   "source": []
  },
  {
   "cell_type": "code",
   "execution_count": 13,
   "id": "4a5b2541",
   "metadata": {},
   "outputs": [],
   "source": [
    "model.eval()\n",
    "for labels, inputs in manual_dataloader:\n",
    "    inputs = inputs.to(device)\n",
    "    labels = labels.to(device)\n",
    "    logging.debug(model(inputs), labels)\n",
    "\n",
    "    "
   ]
  },
  {
   "cell_type": "code",
   "execution_count": null,
   "id": "85c049dc-f5d6-4776-9004-a6dc50d9153e",
   "metadata": {},
   "outputs": [],
   "source": []
  },
  {
   "cell_type": "code",
   "execution_count": null,
   "id": "fb9b6c1d-6edb-4eae-b72d-3619df47f240",
   "metadata": {},
   "outputs": [],
   "source": []
  },
  {
   "cell_type": "code",
   "execution_count": null,
   "id": "5bb825ac-049e-413a-ad40-1ee808cd1308",
   "metadata": {},
   "outputs": [],
   "source": []
  },
  {
   "cell_type": "code",
   "execution_count": null,
   "id": "42ebbadf-7d11-4d43-b662-02f104966c13",
   "metadata": {},
   "outputs": [],
   "source": []
  },
  {
   "cell_type": "code",
   "execution_count": null,
   "id": "073b2817-3230-4c0a-b0ae-4f080bd1cd1c",
   "metadata": {},
   "outputs": [],
   "source": []
  },
  {
   "cell_type": "code",
   "execution_count": null,
   "id": "fea905d3-22c5-4a6e-a471-4ca0fa81b899",
   "metadata": {},
   "outputs": [],
   "source": [
    "\n"
   ]
  },
  {
   "cell_type": "code",
   "execution_count": null,
   "id": "db78c99f-c518-45d3-95fc-5b6d8a57e6e7",
   "metadata": {},
   "outputs": [],
   "source": [
    "\n"
   ]
  },
  {
   "cell_type": "code",
   "execution_count": null,
   "id": "ab240182-8dca-490b-bd2e-3430f0262383",
   "metadata": {},
   "outputs": [],
   "source": []
  }
 ],
 "metadata": {
  "kernelspec": {
   "display_name": "Python 3",
   "language": "python",
   "name": "python3"
  },
  "language_info": {
   "codemirror_mode": {
    "name": "ipython",
    "version": 3
   },
   "file_extension": ".py",
   "mimetype": "text/x-python",
   "name": "python",
   "nbconvert_exporter": "python",
   "pygments_lexer": "ipython3",
   "version": "3.8.6"
  }
 },
 "nbformat": 4,
 "nbformat_minor": 5
}
